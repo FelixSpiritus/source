{
 "cells": [
  {
   "cell_type": "code",
   "execution_count": null,
   "id": "d20c7cdc-e1bb-491f-985c-9c96d72b277d",
   "metadata": {},
   "outputs": [
    {
     "name": "stdout",
     "output_type": "stream",
     "text": [
      "Похожесть изображений: 96.8570%\n"
     ]
    }
   ],
   "source": [
    "from skimage.metrics import structural_similarity as compare_ssim\n",
    "import cv2\n",
    "import numpy as np\n",
    "\n",
    "# Загрузка изображений\n",
    "img1 = cv2.imread('left1.jpg')\n",
    "img2 = cv2.imread('right1.jpg')\n",
    "\n",
    "# Преобразование изображений в оттенки серого\n",
    "img1_gray = cv2.cvtColor(img1, cv2.COLOR_BGR2GRAY)\n",
    "img2_gray = cv2.cvtColor(img2, cv2.COLOR_BGR2GRAY)\n",
    "\n",
    "# Вычисление индекса структурного сходства (SSIM)\n",
    "similarity_score, diff_map = compare_ssim(img1_gray, img2_gray, full=True)\n",
    "print(\"Похожесть изображений: {:.4f}%\".format(similarity_score * 100))\n",
    "\n",
    "# Преобразование карты различий в 8-битный формат\n",
    "diff_map = (diff_map * 255).astype(\"uint8\")\n",
    "diff_colored = cv2.merge([diff_map, diff_map, diff_map])\n",
    "\n",
    "# Бинаризация карты различий\n",
    "binary_diff = cv2.threshold(diff_map, 0, 255, cv2.THRESH_BINARY_INV | cv2.THRESH_OTSU)[1]\n",
    "\n",
    "# Поиск контуров на бинарном изображении\n",
    "contours_list = cv2.findContours(binary_diff, cv2.RETR_EXTERNAL, cv2.CHAIN_APPROX_SIMPLE)\n",
    "contours_list = contours_list[0] if len(contours_list) == 2 else contours_list[1]\n",
    "\n",
    "# Создание маски для изменений\n",
    "change_mask = np.zeros(img1.shape, dtype='uint8')\n",
    "img2_highlighted = img2.copy()\n",
    "\n",
    "for contour in contours_list:\n",
    "    contour_area = cv2.contourArea(contour)\n",
    "    if contour_area > 40:  # Игнорирование мелких изменений\n",
    "        x, y, width, height = cv2.boundingRect(contour)\n",
    "        cv2.rectangle(img1, (x, y), (x + width, y + height), (0, 255, 0), 2)\n",
    "        cv2.rectangle(img2, (x, y), (x + width, y + height), (0, 255, 0), 2)\n",
    "        cv2.rectangle(diff_colored, (x, y), (x + width, y + height), (0, 255, 0), 2)\n",
    "        cv2.drawContours(change_mask, [contour], 0, (255, 255, 255), -1)\n",
    "        cv2.drawContours(img2_highlighted, [contour], 0, (0, 255, 0), -1)\n",
    "\n",
    "# Отображение результатов\n",
    "cv2.imshow('Image 1 with Changes', img1)\n",
    "cv2.imshow('Image 2 with Changes', img2)\n",
    "cv2.imshow('Difference Map', diff_map)\n",
    "cv2.imshow('Colored Difference Map', diff_colored)\n",
    "cv2.imshow('Change Mask', change_mask)\n",
    "cv2.imshow('Highlighted Changes', img2_highlighted)\n",
    "cv2.waitKey()\n"
   ]
  },
  {
   "cell_type": "code",
   "execution_count": null,
   "id": "fe672bcb-09a5-452d-ba64-5402b57f9126",
   "metadata": {},
   "outputs": [],
   "source": []
  }
 ],
 "metadata": {
  "kernelspec": {
   "display_name": "Python 3 (ipykernel)",
   "language": "python",
   "name": "python3"
  },
  "language_info": {
   "codemirror_mode": {
    "name": "ipython",
    "version": 3
   },
   "file_extension": ".py",
   "mimetype": "text/x-python",
   "name": "python",
   "nbconvert_exporter": "python",
   "pygments_lexer": "ipython3",
   "version": "3.12.7"
  }
 },
 "nbformat": 4,
 "nbformat_minor": 5
}
