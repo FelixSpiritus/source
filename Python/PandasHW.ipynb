{
 "cells": [
  {
   "cell_type": "code",
   "execution_count": 208,
   "id": "aa31f1bc-d510-452d-b29b-0db2c3b0f320",
   "metadata": {
    "editable": true,
    "slideshow": {
     "slide_type": ""
    },
    "tags": []
   },
   "outputs": [],
   "source": [
    "# Имрортируем библиотеку pandas\n",
    "import pandas as pd"
   ]
  },
  {
   "cell_type": "markdown",
   "id": "ee10d40e-ccba-403f-b0dc-5645fae2b298",
   "metadata": {
    "editable": true,
    "slideshow": {
     "slide_type": "notes"
    },
    "tags": []
   },
   "source": [
    "### ОПИСАНИЕ ДАННЫХ\n",
    "\n",
    "#### **TRAIN.CSV**\n",
    "-   `row_id`: (int64) ID строки.\n",
    "-   `timestamp`: (int64) время в миллисекундах между началом сессии пользователя и первым завершением события(задания) этим пользователем.\n",
    "-   `user_id`: (int32) ID пользователя.\n",
    "-   `content_id`: (int16) ID контента, с которым взаимодействовал пользователь\n",
    "-   `content_type_id`: (int8) ID типа контента(0, если событием был вопрос, заданный пользователю, 1, если событием был просмотр лекции)\n",
    "-   `task_container_id`: (int16) ID блока вопросов или лекций. Например, пользователь может просмотреть три вопроса подряд, прежде чем увидит объяснения к ним. Все эти три вопроса будут иметь общий идентификатор task_container_id.\n",
    "-   `user_answer`: (int8) ответ пользователя на вопрос, если таковой имеется. -1 - пустое значение для лекций.\n",
    "-   `answered_correctly`: (int8) Корректность ответа пользователя. Для лекций -1 пустое значение для лекций.\n",
    "-   `prior_question_elapsed_time`: (float32) Среднее время в миллисекундах, которое потребовалось пользователю, чтобы ответить на каждый вопрос в предыдущем пакете вопросов, без учета всех лекций между ними. Пустое значение для первого пакета вопросов или лекции пользователя. Обратите внимание, что время - это среднее время, затраченное пользователем на решение каждого вопроса в предыдущем пакете.\n",
    "-   `prior_question_had_explanation`: (bool) Увидел ли пользователь объяснение и правильный ответ после ответа на предыдущий пакет вопросов, игнорируя все лекции между ними. Значение является нулевым для первого пакета вопросов или лекции пользователя. Как правило, первые несколько вопросов, которые видит пользователь, были частью диагностического теста при входе в систему, где он не получил никакой обратной связи.\n",
    "\n",
    "\n",
    "#### **QUESTIONS.CSV**: МЕТАДАННЫЕ ДЛЯ ВОПРОСОВ, ЗАДАВАЕМЫХ ПОЛЬЗОВАТЕЛЯМ.\n",
    "-   `question_id`: ID вопроса, внешний ключ для столбца content_id в TRAIN.CSV, если тип контента вопрос(0)\n",
    "-   `bundle_id`: Код, по которому вопросы подаются вместе.\n",
    "-   `correct_answer`: Правильный ответ на вопрос. Можно сравнить с колонкой user_answer в TRAIN.CSV, чтобы проверить, правильно ли ответил пользователь.\n",
    "-   `part`: Соответствующий раздел теста TOEIC.\n",
    "-   `tags`: Один или несколько кодов тегов для вопроса. Смысл тегов не сообщается, но этих кодов достаточно для объединения вопросов в кластеры.\n",
    "\n",
    "#### **LECTURES.CSV**: МЕТАДАННЫЕ О ЛЕКЦИЯХ, ПРОСМАТРИВАЕМЫХ ПОЛЬЗОВАТЕЛЯМИ ПО МЕРЕ ИХ ОБУЧЕНИЯ.\n",
    "-   `lecture_id`: ID лекции, внешний ключ для столбца content_id в TRAIN.CSV, если тип контента лекция(1).\n",
    "-   `part`: код категории верхнего уровня для лекции.\n",
    "-   `tag`: Код тега для лекции. Значение тегов не приводится, но этих кодов достаточно для объединения лекций в кластеры.\n",
    "-   `type_of`: Краткое описание основной цели лекции."
   ]
  },
  {
   "cell_type": "code",
   "execution_count": 209,
   "id": "b458f063-c18f-49f4-b4d5-2f9945d45bf8",
   "metadata": {
    "editable": true,
    "slideshow": {
     "slide_type": ""
    },
    "tags": []
   },
   "outputs": [],
   "source": [
    "# Прочитаем данные из файла lectures.csv и запишем их в lectures.\n",
    "# Изменим тип данных для минимизации иcпользования памяти\n",
    "lectures = pd.read_csv('lectures.csv',\n",
    "                          dtype={'lecture_id': 'int16',\n",
    "                                 'tag': 'int16',\n",
    "                                 'part': 'int8',\n",
    "                                 'type_of': 'category'\n",
    "                                }\n",
    "                         )\n",
    "# Прочитаем данные из файла questions.csv и запишем их в questions.\n",
    "# Изменим тип данных для минимизации иcпользования памяти\n",
    "questions = pd.read_csv('questions.csv',\n",
    "                          dtype={'question_id': 'int16',\n",
    "                                 'bundle_id': 'int16',\n",
    "                                 'correct_answer': 'int8',\n",
    "                                 'part': 'int8',\n",
    "                                }\n",
    "                          )\n",
    "# Прочитаем данные из файла train.csv и запишем их в train.\n",
    "# Изменим тип данных для минимизации иcпользования памяти\n",
    "train = pd.read_csv('train.csv',\n",
    "                       dtype={'row_id': 'int64',\n",
    "                              'timestamp': 'int64',\n",
    "                              'user_id': 'int32',\n",
    "                              'content_id': 'int16',\n",
    "                              'content_type_id': 'int8',\n",
    "                              'task_container_id': 'int16',\n",
    "                              'user_answer': 'int8',\n",
    "                              'answered_correctly':'int8',\n",
    "                              'prior_question_elapsed_time': 'float32',\n",
    "                              'prior_question_had_explanation': 'boolean'\n",
    "                             }, \n",
    "                       index_col=0 # Индексной назначаем колонку с номером 0 из считываемого файла \n",
    "                      )"
   ]
  },
  {
   "cell_type": "code",
   "execution_count": 210,
   "id": "09d6fa81-26fc-4682-8568-b9a9d780d621",
   "metadata": {
    "editable": true,
    "slideshow": {
     "slide_type": ""
    },
    "tags": []
   },
   "outputs": [
    {
     "name": "stdout",
     "output_type": "stream",
     "text": [
      "<class 'pandas.core.frame.DataFrame'>\n",
      "Index: 101230332 entries, 0 to 101230331\n",
      "Data columns (total 9 columns):\n",
      " #   Column                          Dtype  \n",
      "---  ------                          -----  \n",
      " 0   timestamp                       int64  \n",
      " 1   user_id                         int32  \n",
      " 2   content_id                      int16  \n",
      " 3   content_type_id                 int8   \n",
      " 4   task_container_id               int16  \n",
      " 5   user_answer                     int8   \n",
      " 6   answered_correctly              int8   \n",
      " 7   prior_question_elapsed_time     float32\n",
      " 8   prior_question_had_explanation  boolean\n",
      "dtypes: boolean(1), float32(1), int16(2), int32(1), int64(1), int8(3)\n",
      "memory usage: 3.1 GB\n"
     ]
    }
   ],
   "source": [
    "# Выведем информацию о таблице train\n",
    "train.info()"
   ]
  },
  {
   "cell_type": "code",
   "execution_count": 211,
   "id": "0c917830-8492-4141-b4e8-df8b96b05d8a",
   "metadata": {},
   "outputs": [
    {
     "data": {
      "text/plain": [
       "393656"
      ]
     },
     "execution_count": 211,
     "metadata": {},
     "output_type": "execute_result"
    }
   ],
   "source": [
    "# Выясним количество студентов\n",
    "train.user_id.nunique()"
   ]
  },
  {
   "cell_type": "markdown",
   "id": "0ae45785-94f3-4308-9bcf-698e22a29973",
   "metadata": {},
   "source": [
    "#### В таблице содержится информация о результатах 393656 студентов"
   ]
  },
  {
   "cell_type": "code",
   "execution_count": 255,
   "id": "7dd5a142-12b6-4ff6-9cf4-d3f21002d75d",
   "metadata": {},
   "outputs": [
    {
     "data": {
      "text/plain": [
       "13782"
      ]
     },
     "execution_count": 255,
     "metadata": {},
     "output_type": "execute_result"
    }
   ],
   "source": [
    "# Выясним количество уникальных вопросов и лекций\n",
    "train.content_id.nunique()"
   ]
  },
  {
   "cell_type": "code",
   "execution_count": 214,
   "id": "d9e7f8d7-2ccd-47c3-a10b-ea91472ed7c1",
   "metadata": {},
   "outputs": [
    {
     "data": {
      "text/plain": [
       "content_type_id\n",
       "0    0.980648\n",
       "1    0.019352\n",
       "Name: proportion, dtype: float64"
      ]
     },
     "execution_count": 214,
     "metadata": {},
     "output_type": "execute_result"
    }
   ],
   "source": [
    "# Рассмотрим относительноую частоту типов активности: 0 - вопрос(ы), 1 - лекция \n",
    "train.content_type_id.value_counts(normalize=True)"
   ]
  },
  {
   "cell_type": "markdown",
   "id": "9b7f5305-aa10-4e64-9c35-17cf08ed0355",
   "metadata": {},
   "source": [
    "#### более 98% активности студентов приходится на ответы на вопросы\n",
    "#### менее 2% активности приходится на лекции"
   ]
  },
  {
   "cell_type": "code",
   "execution_count": 215,
   "id": "b1cb9976-1faf-4a2d-96bf-35f148da7b09",
   "metadata": {},
   "outputs": [
    {
     "data": {
      "text/plain": [
       "content_type_id\n",
       "0    99271300\n",
       "1     1959032\n",
       "Name: count, dtype: int64"
      ]
     },
     "execution_count": 215,
     "metadata": {},
     "output_type": "execute_result"
    }
   ],
   "source": [
    "# Рассмотрим типы активности в абсолютных значениях: 0 - вопрос(ы), 1 - лекция \n",
    "train.content_type_id.value_counts()"
   ]
  },
  {
   "cell_type": "markdown",
   "id": "3ea453a4-fba9-4cde-aa78-f8a8e272424e",
   "metadata": {},
   "source": [
    "#### 99271300 количество ответов на вопросы\n",
    "#### 1959032 количество просмотров лекций"
   ]
  },
  {
   "cell_type": "code",
   "execution_count": 216,
   "id": "9628013a-f35a-420c-97f5-87574f71d30a",
   "metadata": {},
   "outputs": [],
   "source": [
    "# Отфильтруем таблицу по ответам на вопросы\n",
    "train_q=train[train['content_type_id'] == 0]\n",
    "# Отфильтруем таблицу по лекциям\n",
    "train_l=train[train['content_type_id'] == 1]"
   ]
  },
  {
   "cell_type": "code",
   "execution_count": 217,
   "id": "cd31ff51-e539-47b3-b338-109736b5b59c",
   "metadata": {},
   "outputs": [
    {
     "data": {
      "text/plain": [
       "13523"
      ]
     },
     "execution_count": 217,
     "metadata": {},
     "output_type": "execute_result"
    }
   ],
   "source": [
    "# Найдем количество уникальных вопросов\n",
    "train_q.content_id.nunique()"
   ]
  },
  {
   "cell_type": "code",
   "execution_count": 218,
   "id": "14b652d2-594e-444e-9866-b505bdc9ba46",
   "metadata": {},
   "outputs": [
    {
     "data": {
      "text/plain": [
       "415"
      ]
     },
     "execution_count": 218,
     "metadata": {},
     "output_type": "execute_result"
    }
   ],
   "source": [
    "# Найдем количество уникальных лекций\n",
    "train_l.content_id.nunique()"
   ]
  },
  {
   "cell_type": "code",
   "execution_count": 219,
   "id": "7eb7911e-e8ae-4c32-96b3-515835f91537",
   "metadata": {},
   "outputs": [
    {
     "data": {
      "text/plain": [
       "10000"
      ]
     },
     "execution_count": 219,
     "metadata": {},
     "output_type": "execute_result"
    }
   ],
   "source": [
    "# Найдем количество блоков вопросов и лекций\n",
    "train.task_container_id.nunique()"
   ]
  },
  {
   "cell_type": "code",
   "execution_count": 220,
   "id": "e01037b0-5c50-42d1-a619-cafbad63eea3",
   "metadata": {},
   "outputs": [
    {
     "data": {
      "text/plain": [
       "answered_correctly\n",
       "1    0.657236\n",
       "0    0.342764\n",
       "Name: proportion, dtype: float64"
      ]
     },
     "execution_count": 220,
     "metadata": {},
     "output_type": "execute_result"
    }
   ],
   "source": [
    "# Рассмотрим относительноую частоту верных\\неверных ответов на вопросы\n",
    "train_q['answered_correctly'].value_counts(normalize=True) "
   ]
  },
  {
   "cell_type": "markdown",
   "id": "ef2cf7e8-7d10-44fc-87f4-a1af7a8e3ead",
   "metadata": {},
   "source": [
    "#### 66% составляют правильные ответы \n",
    "#### 34% составляют неправильные ответы "
   ]
  },
  {
   "cell_type": "code",
   "execution_count": 221,
   "id": "a651b76e-f966-40a5-b899-1fe9ef891294",
   "metadata": {},
   "outputs": [
    {
     "data": {
      "text/plain": [
       "answered_correctly\n",
       "1    65244627\n",
       "0    34026673\n",
       "Name: count, dtype: int64"
      ]
     },
     "execution_count": 221,
     "metadata": {},
     "output_type": "execute_result"
    }
   ],
   "source": [
    "# Рассмотрим абсолютное количество верных\\неверных ответов на вопросы\n",
    "train_q['answered_correctly'].value_counts() "
   ]
  },
  {
   "cell_type": "markdown",
   "id": "3b4c7dfe-4cc3-419a-aa9c-e808d6edf6dc",
   "metadata": {},
   "source": [
    "#### 65244627 составляют правильные ответы \n",
    "#### 34026673 составляют неправильные ответы "
   ]
  },
  {
   "cell_type": "code",
   "execution_count": 222,
   "id": "48ea78e1-ddfe-415c-87e3-87708f780eed",
   "metadata": {},
   "outputs": [
    {
     "name": "stdout",
     "output_type": "stream",
     "text": [
      "            answered_correctly\n",
      "                         count\n",
      "user_answer                   \n",
      "0                     28186489\n",
      "1                     26990007\n",
      "2                     18010020\n",
      "3                     26084784\n"
     ]
    }
   ],
   "source": [
    "# Рассмотрим какие ответы наиболее часто встречаются\n",
    "train_q_answ = train_q[['user_answer', 'answered_correctly']].groupby(['user_answer']).agg(['count'])\n",
    "# Выведем результат\n",
    "print(train_q_answ)"
   ]
  },
  {
   "cell_type": "markdown",
   "id": "68c3bc36-4267-4092-9f66-3e42da86839c",
   "metadata": {},
   "source": [
    "#### Наиболее частовстречаемый ответ - 0.\n",
    "#### Наименее частовстречаемый ответ - 2"
   ]
  },
  {
   "cell_type": "code",
   "execution_count": 223,
   "id": "7b20fecd-f66c-4597-a599-0c3d8a5cd3a6",
   "metadata": {},
   "outputs": [
    {
     "data": {
      "text/html": [
       "<div>\n",
       "<style scoped>\n",
       "    .dataframe tbody tr th:only-of-type {\n",
       "        vertical-align: middle;\n",
       "    }\n",
       "\n",
       "    .dataframe tbody tr th {\n",
       "        vertical-align: top;\n",
       "    }\n",
       "\n",
       "    .dataframe thead tr th {\n",
       "        text-align: left;\n",
       "    }\n",
       "</style>\n",
       "<table border=\"1\" class=\"dataframe\">\n",
       "  <thead>\n",
       "    <tr>\n",
       "      <th></th>\n",
       "      <th>user_answer</th>\n",
       "    </tr>\n",
       "    <tr>\n",
       "      <th></th>\n",
       "      <th>count</th>\n",
       "    </tr>\n",
       "  </thead>\n",
       "  <tbody>\n",
       "    <tr>\n",
       "      <th>count</th>\n",
       "      <td>13519.000000</td>\n",
       "    </tr>\n",
       "    <tr>\n",
       "      <th>mean</th>\n",
       "      <td>4826.142984</td>\n",
       "    </tr>\n",
       "    <tr>\n",
       "      <th>std</th>\n",
       "      <td>6419.895726</td>\n",
       "    </tr>\n",
       "    <tr>\n",
       "      <th>min</th>\n",
       "      <td>1.000000</td>\n",
       "    </tr>\n",
       "    <tr>\n",
       "      <th>25%</th>\n",
       "      <td>1275.000000</td>\n",
       "    </tr>\n",
       "    <tr>\n",
       "      <th>50%</th>\n",
       "      <td>3237.000000</td>\n",
       "    </tr>\n",
       "    <tr>\n",
       "      <th>75%</th>\n",
       "      <td>5879.000000</td>\n",
       "    </tr>\n",
       "    <tr>\n",
       "      <th>max</th>\n",
       "      <td>149422.000000</td>\n",
       "    </tr>\n",
       "  </tbody>\n",
       "</table>\n",
       "</div>"
      ],
      "text/plain": [
       "         user_answer\n",
       "               count\n",
       "count   13519.000000\n",
       "mean     4826.142984\n",
       "std      6419.895726\n",
       "min         1.000000\n",
       "25%      1275.000000\n",
       "50%      3237.000000\n",
       "75%      5879.000000\n",
       "max    149422.000000"
      ]
     },
     "execution_count": 223,
     "metadata": {},
     "output_type": "execute_result"
    }
   ],
   "source": [
    "# отфильтруем таблицу по правильным ответам\n",
    "train_answ_corr = train_q[train_q.answered_correctly == 1]\n",
    "# сгруппируем по вопросам и посчитаем количество правильных ответов на вопрос\n",
    "count_corr = train_answ_corr[['content_id', 'user_answer']].groupby(['content_id']).agg(['count'])\n",
    "# посмотрим статистику ответов\n",
    "count_corr.describe()"
   ]
  },
  {
   "cell_type": "markdown",
   "id": "27be6087-587b-4595-8ba5-bc12370683ff",
   "metadata": {},
   "source": [
    "#### В таблице 13519 вопросов, имеющих хотя бы один правильный ответ\n",
    "#### Максимальное число правильных ответов на один вопрос 149422\n",
    "#### Мнимальное число правильных ответов на один вопрос 1\n",
    "#### В среднем каждый вопрос имеет 4826 правильных ответов"
   ]
  },
  {
   "cell_type": "code",
   "execution_count": 224,
   "id": "79a2786b-6ce1-43bd-967e-606845b06599",
   "metadata": {},
   "outputs": [
    {
     "data": {
      "text/html": [
       "<div>\n",
       "<style scoped>\n",
       "    .dataframe tbody tr th:only-of-type {\n",
       "        vertical-align: middle;\n",
       "    }\n",
       "\n",
       "    .dataframe tbody tr th {\n",
       "        vertical-align: top;\n",
       "    }\n",
       "\n",
       "    .dataframe thead tr th {\n",
       "        text-align: left;\n",
       "    }\n",
       "</style>\n",
       "<table border=\"1\" class=\"dataframe\">\n",
       "  <thead>\n",
       "    <tr>\n",
       "      <th></th>\n",
       "      <th>user_answer</th>\n",
       "    </tr>\n",
       "    <tr>\n",
       "      <th></th>\n",
       "      <th>count</th>\n",
       "    </tr>\n",
       "  </thead>\n",
       "  <tbody>\n",
       "    <tr>\n",
       "      <th>count</th>\n",
       "      <td>13506.000000</td>\n",
       "    </tr>\n",
       "    <tr>\n",
       "      <th>mean</th>\n",
       "      <td>2519.374574</td>\n",
       "    </tr>\n",
       "    <tr>\n",
       "      <th>std</th>\n",
       "      <td>6078.817129</td>\n",
       "    </tr>\n",
       "    <tr>\n",
       "      <th>min</th>\n",
       "      <td>1.000000</td>\n",
       "    </tr>\n",
       "    <tr>\n",
       "      <th>25%</th>\n",
       "      <td>369.250000</td>\n",
       "    </tr>\n",
       "    <tr>\n",
       "      <th>50%</th>\n",
       "      <td>1130.000000</td>\n",
       "    </tr>\n",
       "    <tr>\n",
       "      <th>75%</th>\n",
       "      <td>2688.500000</td>\n",
       "    </tr>\n",
       "    <tr>\n",
       "      <th>max</th>\n",
       "      <td>153992.000000</td>\n",
       "    </tr>\n",
       "  </tbody>\n",
       "</table>\n",
       "</div>"
      ],
      "text/plain": [
       "         user_answer\n",
       "               count\n",
       "count   13506.000000\n",
       "mean     2519.374574\n",
       "std      6078.817129\n",
       "min         1.000000\n",
       "25%       369.250000\n",
       "50%      1130.000000\n",
       "75%      2688.500000\n",
       "max    153992.000000"
      ]
     },
     "execution_count": 224,
     "metadata": {},
     "output_type": "execute_result"
    }
   ],
   "source": [
    "# отфильтруем таблицу по неправильным ответам\n",
    "train_answ_incorr = train_q[train_q.answered_correctly == 0]\n",
    "# сгруппируем по вопросам и посчитаем количество неправильных ответов на вопрос\n",
    "count_incorr = train_answ_incorr[['content_id', 'user_answer']].groupby(['content_id']).agg(['count'])\n",
    "# посмотрим статистику ответов\n",
    "count_incorr.describe()"
   ]
  },
  {
   "cell_type": "markdown",
   "id": "0f533c5a-20a8-4c0e-9195-f43c9cf70445",
   "metadata": {},
   "source": [
    "#### В таблице 13506 вопросов, имеющих хотя бы один неправильный ответ\n",
    "#### Максимальное число неправильных ответов на один вопрос 153992\n",
    "#### Мнимальное число неправильных ответов на один вопрос 1\n",
    "#### В среднем каждый вопрос имеет 2519 неправильных ответов"
   ]
  },
  {
   "cell_type": "code",
   "execution_count": 225,
   "id": "dc8bcbf9-e9c7-44d9-94ee-3af9ca5ebbc3",
   "metadata": {},
   "outputs": [
    {
     "name": "stdout",
     "output_type": "stream",
     "text": [
      "Cреднее время ответа на вопрос 25.424 сек.\n"
     ]
    }
   ],
   "source": [
    "# Найдем и выведем среднее время ответа на вопрос\n",
    "print('Cреднее время ответа на вопрос',round(train['prior_question_elapsed_time'].mean()/1000,3),'сек.')"
   ]
  },
  {
   "cell_type": "markdown",
   "id": "b1441283-26b9-440d-8af9-f57c33c591bc",
   "metadata": {},
   "source": [
    "### Исследуем, как отражаются увиденные пользователем объяснения и правильный ответ, на количество правильных ответов."
   ]
  },
  {
   "cell_type": "code",
   "execution_count": 226,
   "id": "b476eacf-53f5-47f7-ade2-9704f72dd201",
   "metadata": {},
   "outputs": [
    {
     "data": {
      "text/html": [
       "<div>\n",
       "<style scoped>\n",
       "    .dataframe tbody tr th:only-of-type {\n",
       "        vertical-align: middle;\n",
       "    }\n",
       "\n",
       "    .dataframe tbody tr th {\n",
       "        vertical-align: top;\n",
       "    }\n",
       "\n",
       "    .dataframe thead th {\n",
       "        text-align: right;\n",
       "    }\n",
       "</style>\n",
       "<table border=\"1\" class=\"dataframe\">\n",
       "  <thead>\n",
       "    <tr style=\"text-align: right;\">\n",
       "      <th></th>\n",
       "      <th>explanation_count</th>\n",
       "    </tr>\n",
       "    <tr>\n",
       "      <th>user_id</th>\n",
       "      <th></th>\n",
       "    </tr>\n",
       "  </thead>\n",
       "  <tbody>\n",
       "    <tr>\n",
       "      <th>115</th>\n",
       "      <td>6</td>\n",
       "    </tr>\n",
       "    <tr>\n",
       "      <th>124</th>\n",
       "      <td>0</td>\n",
       "    </tr>\n",
       "    <tr>\n",
       "      <th>2746</th>\n",
       "      <td>11</td>\n",
       "    </tr>\n",
       "  </tbody>\n",
       "</table>\n",
       "</div>"
      ],
      "text/plain": [
       "         explanation_count\n",
       "user_id                   \n",
       "115                      6\n",
       "124                      0\n",
       "2746                    11"
      ]
     },
     "execution_count": 226,
     "metadata": {},
     "output_type": "execute_result"
    }
   ],
   "source": [
    "# Cгруппируем таблицу ответов по пользователю и посчитаем количество просмотров пользователем объяснений/ответов\n",
    "had_explanation_count = train_q[['user_id', 'prior_question_had_explanation']].groupby(['user_id']).agg(['sum']).sort_values(by=['user_id'])\n",
    "# Обозначим столбец количества просмотров пользователем объяснений/ответов\n",
    "had_explanation_count.columns = ['explanation_count']\n",
    "# Выведем первые три строки полученной таблицы\n",
    "had_explanation_count.head(3)"
   ]
  },
  {
   "cell_type": "code",
   "execution_count": 227,
   "id": "65d28661-41c5-4bcf-8124-1d28c567f9ae",
   "metadata": {},
   "outputs": [
    {
     "data": {
      "text/html": [
       "<div>\n",
       "<style scoped>\n",
       "    .dataframe tbody tr th:only-of-type {\n",
       "        vertical-align: middle;\n",
       "    }\n",
       "\n",
       "    .dataframe tbody tr th {\n",
       "        vertical-align: top;\n",
       "    }\n",
       "\n",
       "    .dataframe thead th {\n",
       "        text-align: right;\n",
       "    }\n",
       "</style>\n",
       "<table border=\"1\" class=\"dataframe\">\n",
       "  <thead>\n",
       "    <tr style=\"text-align: right;\">\n",
       "      <th></th>\n",
       "      <th>answered_correctly_count</th>\n",
       "    </tr>\n",
       "    <tr>\n",
       "      <th>user_id</th>\n",
       "      <th></th>\n",
       "    </tr>\n",
       "  </thead>\n",
       "  <tbody>\n",
       "    <tr>\n",
       "      <th>115</th>\n",
       "      <td>32</td>\n",
       "    </tr>\n",
       "    <tr>\n",
       "      <th>124</th>\n",
       "      <td>7</td>\n",
       "    </tr>\n",
       "    <tr>\n",
       "      <th>2746</th>\n",
       "      <td>11</td>\n",
       "    </tr>\n",
       "  </tbody>\n",
       "</table>\n",
       "</div>"
      ],
      "text/plain": [
       "         answered_correctly_count\n",
       "user_id                          \n",
       "115                            32\n",
       "124                             7\n",
       "2746                           11"
      ]
     },
     "execution_count": 227,
     "metadata": {},
     "output_type": "execute_result"
    }
   ],
   "source": [
    "# Cгруппируем таблицу правильных ответов по пользователю и посчитаем количество правильных ответов от каждого пользователя\n",
    "user_correct_answ_count=train_answ_corr[['user_id', 'answered_correctly']].groupby(['user_id']).agg(['count']).sort_values(by=['user_id'])\n",
    "# Обозначим столбец количества правильных ответов\n",
    "user_correct_answ_count.columns = ['answered_correctly_count']\n",
    "# Выведем первые три строки полученной таблицы\n",
    "user_correct_answ_count.head(3)"
   ]
  },
  {
   "cell_type": "code",
   "execution_count": 228,
   "id": "11cc1210-1544-45fe-93a5-0ca03dbe7313",
   "metadata": {},
   "outputs": [
    {
     "data": {
      "text/html": [
       "<div>\n",
       "<style scoped>\n",
       "    .dataframe tbody tr th:only-of-type {\n",
       "        vertical-align: middle;\n",
       "    }\n",
       "\n",
       "    .dataframe tbody tr th {\n",
       "        vertical-align: top;\n",
       "    }\n",
       "\n",
       "    .dataframe thead th {\n",
       "        text-align: right;\n",
       "    }\n",
       "</style>\n",
       "<table border=\"1\" class=\"dataframe\">\n",
       "  <thead>\n",
       "    <tr style=\"text-align: right;\">\n",
       "      <th></th>\n",
       "      <th>explanation_count</th>\n",
       "      <th>answered_correctly_count</th>\n",
       "    </tr>\n",
       "    <tr>\n",
       "      <th>user_id</th>\n",
       "      <th></th>\n",
       "      <th></th>\n",
       "    </tr>\n",
       "  </thead>\n",
       "  <tbody>\n",
       "    <tr>\n",
       "      <th>115</th>\n",
       "      <td>6</td>\n",
       "      <td>32.0</td>\n",
       "    </tr>\n",
       "    <tr>\n",
       "      <th>124</th>\n",
       "      <td>0</td>\n",
       "      <td>7.0</td>\n",
       "    </tr>\n",
       "    <tr>\n",
       "      <th>2746</th>\n",
       "      <td>11</td>\n",
       "      <td>11.0</td>\n",
       "    </tr>\n",
       "  </tbody>\n",
       "</table>\n",
       "</div>"
      ],
      "text/plain": [
       "         explanation_count  answered_correctly_count\n",
       "user_id                                             \n",
       "115                      6                      32.0\n",
       "124                      0                       7.0\n",
       "2746                    11                      11.0"
      ]
     },
     "execution_count": 228,
     "metadata": {},
     "output_type": "execute_result"
    }
   ],
   "source": [
    "# Объединим таблицы количества правильных ответов и просмотров объяснений/ответов\n",
    "user_answ_explan_merge = had_explanation_count.merge(user_correct_answ_count, how='left', left_on='user_id', right_on='user_id')\n",
    "# Выведем первые три строки полученной таблицы\n",
    "user_answ_explan_merge.head(3)"
   ]
  },
  {
   "cell_type": "code",
   "execution_count": 229,
   "id": "cb111b9d-963c-4e50-8244-0a827aa216de",
   "metadata": {},
   "outputs": [
    {
     "data": {
      "image/png": "[encoded data removed]",
      "text/plain": [
       "<Figure size 640x480 with 1 Axes>"
      ]
     },
     "metadata": {},
     "output_type": "display_data"
    }
   ],
   "source": [
    "# Построим графих зависимости количества правильных ответов от количества просмотров объяснений/ответов\n",
    "user_answ_explan_merge.plot(x='explanation_count', y='answered_correctly_count',  kind = 'scatter');"
   ]
  },
  {
   "cell_type": "markdown",
   "id": "de9bf632-5a72-4a92-a944-7cc50bfa2cbf",
   "metadata": {},
   "source": [
    "### С увеличением количества просмотров объяснений/ответов наблюдается рост количества правильных ответов"
   ]
  },
  {
   "cell_type": "code",
   "execution_count": 230,
   "id": "ab853675-3cc3-4a07-99a1-5a9a87a26c76",
   "metadata": {},
   "outputs": [
    {
     "name": "stdout",
     "output_type": "stream",
     "text": [
      "<class 'pandas.core.frame.DataFrame'>\n",
      "RangeIndex: 13523 entries, 0 to 13522\n",
      "Data columns (total 5 columns):\n",
      " #   Column          Non-Null Count  Dtype \n",
      "---  ------          --------------  ----- \n",
      " 0   question_id     13523 non-null  int16 \n",
      " 1   bundle_id       13523 non-null  int16 \n",
      " 2   correct_answer  13523 non-null  int8  \n",
      " 3   part            13523 non-null  int8  \n",
      " 4   tags            13522 non-null  object\n",
      "dtypes: int16(2), int8(2), object(1)\n",
      "memory usage: 185.0+ KB\n"
     ]
    }
   ],
   "source": [
    "# Выведем информацию о таблице questions\n",
    "questions.info()"
   ]
  },
  {
   "cell_type": "code",
   "execution_count": 231,
   "id": "69c55ce1-1a3d-41cf-83ef-c7b02316fc42",
   "metadata": {},
   "outputs": [
    {
     "data": {
      "text/plain": [
       "13523"
      ]
     },
     "execution_count": 231,
     "metadata": {},
     "output_type": "execute_result"
    }
   ],
   "source": [
    "# Получим количество уникальных вопросов\n",
    "questions['question_id'].nunique()"
   ]
  },
  {
   "cell_type": "code",
   "execution_count": 232,
   "id": "20546268-da5e-404b-9fcd-6722fd8fec0b",
   "metadata": {},
   "outputs": [
    {
     "data": {
      "text/plain": [
       "9765"
      ]
     },
     "execution_count": 232,
     "metadata": {},
     "output_type": "execute_result"
    }
   ],
   "source": [
    "# Получим количество уникальных блоков вопросов\n",
    "questions['bundle_id'].nunique()"
   ]
  },
  {
   "cell_type": "code",
   "execution_count": 233,
   "id": "66338881-59ed-4791-8953-67e25a4c076b",
   "metadata": {},
   "outputs": [
    {
     "data": {
      "text/plain": [
       "4"
      ]
     },
     "execution_count": 233,
     "metadata": {},
     "output_type": "execute_result"
    }
   ],
   "source": [
    "# Получим количество вариантов ответа на вопрос\n",
    "questions['correct_answer'].nunique()"
   ]
  },
  {
   "cell_type": "code",
   "execution_count": 234,
   "id": "688e7a5f-714a-4fa1-a108-ab7fd810dd95",
   "metadata": {},
   "outputs": [
    {
     "data": {
      "text/plain": [
       "7"
      ]
     },
     "execution_count": 234,
     "metadata": {},
     "output_type": "execute_result"
    }
   ],
   "source": [
    "# Получим количество разделов в тесте TOEIC, которых присутствуют вопросы из таблицы\n",
    "questions['part'].nunique()"
   ]
  },
  {
   "cell_type": "code",
   "execution_count": 235,
   "id": "d0ccfe92-690d-48b7-8ae0-d0cbc103de83",
   "metadata": {},
   "outputs": [
    {
     "data": {
      "text/plain": [
       "1519"
      ]
     },
     "execution_count": 235,
     "metadata": {},
     "output_type": "execute_result"
    }
   ],
   "source": [
    "# Получим количество уникльных наборов тегов\n",
    "questions['tags'].nunique()"
   ]
  },
  {
   "cell_type": "code",
   "execution_count": 236,
   "id": "addd56e1-78ec-4d5f-9ee4-476fec0c0c5d",
   "metadata": {},
   "outputs": [
    {
     "data": {
      "text/html": [
       "<div>\n",
       "<style scoped>\n",
       "    .dataframe tbody tr th:only-of-type {\n",
       "        vertical-align: middle;\n",
       "    }\n",
       "\n",
       "    .dataframe tbody tr th {\n",
       "        vertical-align: top;\n",
       "    }\n",
       "\n",
       "    .dataframe thead th {\n",
       "        text-align: right;\n",
       "    }\n",
       "</style>\n",
       "<table border=\"1\" class=\"dataframe\">\n",
       "  <thead>\n",
       "    <tr style=\"text-align: right;\">\n",
       "      <th></th>\n",
       "      <th>question_id</th>\n",
       "      <th>bundle_id</th>\n",
       "      <th>correct_answer</th>\n",
       "      <th>part</th>\n",
       "      <th>tags</th>\n",
       "    </tr>\n",
       "  </thead>\n",
       "  <tbody>\n",
       "    <tr>\n",
       "      <th>0</th>\n",
       "      <td>0</td>\n",
       "      <td>0</td>\n",
       "      <td>0</td>\n",
       "      <td>1</td>\n",
       "      <td>51 131 162 38</td>\n",
       "    </tr>\n",
       "    <tr>\n",
       "      <th>1</th>\n",
       "      <td>1</td>\n",
       "      <td>1</td>\n",
       "      <td>1</td>\n",
       "      <td>1</td>\n",
       "      <td>131 36 81</td>\n",
       "    </tr>\n",
       "    <tr>\n",
       "      <th>2</th>\n",
       "      <td>2</td>\n",
       "      <td>2</td>\n",
       "      <td>0</td>\n",
       "      <td>1</td>\n",
       "      <td>131 101 162 92</td>\n",
       "    </tr>\n",
       "  </tbody>\n",
       "</table>\n",
       "</div>"
      ],
      "text/plain": [
       "   question_id  bundle_id  correct_answer  part            tags\n",
       "0            0          0               0     1   51 131 162 38\n",
       "1            1          1               1     1       131 36 81\n",
       "2            2          2               0     1  131 101 162 92"
      ]
     },
     "execution_count": 236,
     "metadata": {},
     "output_type": "execute_result"
    }
   ],
   "source": [
    "# Выведем первые три строки таблицы questions\n",
    "questions.head(3)"
   ]
  },
  {
   "cell_type": "code",
   "execution_count": 237,
   "id": "978f864b-04e0-4ef9-91fe-b3493b403bef",
   "metadata": {},
   "outputs": [
    {
     "data": {
      "text/html": [
       "<div>\n",
       "<style scoped>\n",
       "    .dataframe tbody tr th:only-of-type {\n",
       "        vertical-align: middle;\n",
       "    }\n",
       "\n",
       "    .dataframe tbody tr th {\n",
       "        vertical-align: top;\n",
       "    }\n",
       "\n",
       "    .dataframe thead tr th {\n",
       "        text-align: left;\n",
       "    }\n",
       "</style>\n",
       "<table border=\"1\" class=\"dataframe\">\n",
       "  <thead>\n",
       "    <tr>\n",
       "      <th></th>\n",
       "      <th>question_id</th>\n",
       "    </tr>\n",
       "    <tr>\n",
       "      <th></th>\n",
       "      <th>count</th>\n",
       "    </tr>\n",
       "  </thead>\n",
       "  <tbody>\n",
       "    <tr>\n",
       "      <th>count</th>\n",
       "      <td>9765.000000</td>\n",
       "    </tr>\n",
       "    <tr>\n",
       "      <th>mean</th>\n",
       "      <td>1.384844</td>\n",
       "    </tr>\n",
       "    <tr>\n",
       "      <th>std</th>\n",
       "      <td>0.906515</td>\n",
       "    </tr>\n",
       "    <tr>\n",
       "      <th>min</th>\n",
       "      <td>1.000000</td>\n",
       "    </tr>\n",
       "    <tr>\n",
       "      <th>25%</th>\n",
       "      <td>1.000000</td>\n",
       "    </tr>\n",
       "    <tr>\n",
       "      <th>50%</th>\n",
       "      <td>1.000000</td>\n",
       "    </tr>\n",
       "    <tr>\n",
       "      <th>75%</th>\n",
       "      <td>1.000000</td>\n",
       "    </tr>\n",
       "    <tr>\n",
       "      <th>max</th>\n",
       "      <td>5.000000</td>\n",
       "    </tr>\n",
       "  </tbody>\n",
       "</table>\n",
       "</div>"
      ],
      "text/plain": [
       "       question_id\n",
       "             count\n",
       "count  9765.000000\n",
       "mean      1.384844\n",
       "std       0.906515\n",
       "min       1.000000\n",
       "25%       1.000000\n",
       "50%       1.000000\n",
       "75%       1.000000\n",
       "max       5.000000"
      ]
     },
     "execution_count": 237,
     "metadata": {},
     "output_type": "execute_result"
    }
   ],
   "source": [
    "# Сгруппируем вопросы по блокам, посчитаем количество вопросов в каждом блоке\n",
    "quest_bundle = questions[['bundle_id', 'question_id']].groupby(['bundle_id']).agg(['count']).sort_values(by=['bundle_id'])\n",
    "# Посмотрим статистики\n",
    "quest_bundle.describe()"
   ]
  },
  {
   "cell_type": "markdown",
   "id": "09253d70-eae9-4a94-8de6-b43a22d701b0",
   "metadata": {},
   "source": [
    "### Втаблице 9765 блоков с вопросами\n",
    "### В среднем в каждом блоке 1.38 вопроса\n",
    "### В каждом блоке есть хотя бы один вопрос\n",
    "### Максимальное количество вопросов в блоке 5"
   ]
  },
  {
   "cell_type": "code",
   "execution_count": 238,
   "id": "18d277ea-8091-4265-8f19-1420b2a802fa",
   "metadata": {},
   "outputs": [
    {
     "data": {
      "text/html": [
       "<div>\n",
       "<style scoped>\n",
       "    .dataframe tbody tr th:only-of-type {\n",
       "        vertical-align: middle;\n",
       "    }\n",
       "\n",
       "    .dataframe tbody tr th {\n",
       "        vertical-align: top;\n",
       "    }\n",
       "\n",
       "    .dataframe thead tr th {\n",
       "        text-align: left;\n",
       "    }\n",
       "</style>\n",
       "<table border=\"1\" class=\"dataframe\">\n",
       "  <thead>\n",
       "    <tr>\n",
       "      <th></th>\n",
       "      <th>question_id</th>\n",
       "    </tr>\n",
       "    <tr>\n",
       "      <th></th>\n",
       "      <th>count</th>\n",
       "    </tr>\n",
       "  </thead>\n",
       "  <tbody>\n",
       "    <tr>\n",
       "      <th>count</th>\n",
       "      <td>7.000000</td>\n",
       "    </tr>\n",
       "    <tr>\n",
       "      <th>mean</th>\n",
       "      <td>1931.857143</td>\n",
       "    </tr>\n",
       "    <tr>\n",
       "      <th>std</th>\n",
       "      <td>1595.221973</td>\n",
       "    </tr>\n",
       "    <tr>\n",
       "      <th>min</th>\n",
       "      <td>992.000000</td>\n",
       "    </tr>\n",
       "    <tr>\n",
       "      <th>25%</th>\n",
       "      <td>1186.000000</td>\n",
       "    </tr>\n",
       "    <tr>\n",
       "      <th>50%</th>\n",
       "      <td>1439.000000</td>\n",
       "    </tr>\n",
       "    <tr>\n",
       "      <th>75%</th>\n",
       "      <td>1604.500000</td>\n",
       "    </tr>\n",
       "    <tr>\n",
       "      <th>max</th>\n",
       "      <td>5511.000000</td>\n",
       "    </tr>\n",
       "  </tbody>\n",
       "</table>\n",
       "</div>"
      ],
      "text/plain": [
       "       question_id\n",
       "             count\n",
       "count     7.000000\n",
       "mean   1931.857143\n",
       "std    1595.221973\n",
       "min     992.000000\n",
       "25%    1186.000000\n",
       "50%    1439.000000\n",
       "75%    1604.500000\n",
       "max    5511.000000"
      ]
     },
     "execution_count": 238,
     "metadata": {},
     "output_type": "execute_result"
    }
   ],
   "source": [
    "# Сгруппируем вопросы по разделам теста TOEIC, посчитаем количество вопросов в каждом блоке\n",
    "quest_part = questions[['part', 'question_id']].groupby(['part']).agg(['count']).sort_values(by=['part'])\n",
    "# Посмотрим статистики\n",
    "quest_part.describe()"
   ]
  },
  {
   "cell_type": "code",
   "execution_count": 239,
   "id": "8f4f9d99-01f6-4131-af7b-3526db3225f5",
   "metadata": {},
   "outputs": [
    {
     "data": {
      "text/plain": [
       "part\n",
       "5    0.407528\n",
       "2    0.121793\n",
       "3    0.115507\n",
       "4    0.106411\n",
       "6    0.089625\n",
       "7    0.085780\n",
       "1    0.073357\n",
       "Name: proportion, dtype: float64"
      ]
     },
     "execution_count": 239,
     "metadata": {},
     "output_type": "execute_result"
    }
   ],
   "source": [
    "# Посмотрим, как распределены вопросы в оттношении теста TOEIC\n",
    "questions['part'].value_counts(normalize=True)"
   ]
  },
  {
   "cell_type": "markdown",
   "id": "f03dbcfa-b00b-4c00-a266-9435ff128785",
   "metadata": {},
   "source": [
    "### В таблице присутствуют вопросы из 7 разделов теста TOEIC\n",
    "### Больше всего вопросов из пятого раздела 5511\n",
    "### Меньше всего вопросов из первого раздела 992\n",
    "### В среднем в таблице 1932 вопроса из каждого раздела"
   ]
  },
  {
   "cell_type": "code",
   "execution_count": 240,
   "id": "e71ada2c-0bed-4b41-b174-89c2bd139417",
   "metadata": {},
   "outputs": [
    {
     "data": {
      "text/plain": [
       "188"
      ]
     },
     "execution_count": 240,
     "metadata": {},
     "output_type": "execute_result"
    }
   ],
   "source": [
    "# Выясним сколько уникальных тегов содержится в столбце tags\n",
    "# Создадим пустое множество tags\n",
    "tags = set()\n",
    "# Запустим цикл по строкам столбца tags\n",
    "for tag in questions['tags']:\n",
    "    try: # Предусмотрим возможную ошибку работы с разделителем\n",
    "        for t in tag.split(): # Запустим цикл по алементам строки, разделенным между собой пробелом\n",
    "            tags.add(int(t)) # Добавим элемент в множество\n",
    "    except: # Если возникла ошибка\n",
    "        tags.add(int(t)) # Добавим элемент в множество\n",
    "\n",
    "# Выведем количество уникальных тегов, по которым можно проводить кластеризацию\n",
    "len(tags)"
   ]
  },
  {
   "cell_type": "code",
   "execution_count": 241,
   "id": "06115561-8812-496e-ae79-c92b68d5d93a",
   "metadata": {},
   "outputs": [
    {
     "data": {
      "text/html": [
       "<div>\n",
       "<style scoped>\n",
       "    .dataframe tbody tr th:only-of-type {\n",
       "        vertical-align: middle;\n",
       "    }\n",
       "\n",
       "    .dataframe tbody tr th {\n",
       "        vertical-align: top;\n",
       "    }\n",
       "\n",
       "    .dataframe thead th {\n",
       "        text-align: right;\n",
       "    }\n",
       "</style>\n",
       "<table border=\"1\" class=\"dataframe\">\n",
       "  <thead>\n",
       "    <tr style=\"text-align: right;\">\n",
       "      <th></th>\n",
       "      <th>timestamp</th>\n",
       "      <th>user_id</th>\n",
       "      <th>content_id</th>\n",
       "      <th>content_type_id</th>\n",
       "      <th>task_container_id</th>\n",
       "      <th>user_answer</th>\n",
       "      <th>answered_correctly</th>\n",
       "      <th>prior_question_elapsed_time</th>\n",
       "      <th>prior_question_had_explanation</th>\n",
       "      <th>question_id</th>\n",
       "      <th>bundle_id</th>\n",
       "      <th>correct_answer</th>\n",
       "      <th>part</th>\n",
       "      <th>tags</th>\n",
       "    </tr>\n",
       "  </thead>\n",
       "  <tbody>\n",
       "    <tr>\n",
       "      <th>0</th>\n",
       "      <td>0</td>\n",
       "      <td>115</td>\n",
       "      <td>5692</td>\n",
       "      <td>0</td>\n",
       "      <td>1</td>\n",
       "      <td>3</td>\n",
       "      <td>1</td>\n",
       "      <td>NaN</td>\n",
       "      <td>&lt;NA&gt;</td>\n",
       "      <td>5692</td>\n",
       "      <td>5692</td>\n",
       "      <td>3</td>\n",
       "      <td>5</td>\n",
       "      <td>151</td>\n",
       "    </tr>\n",
       "    <tr>\n",
       "      <th>1</th>\n",
       "      <td>56943</td>\n",
       "      <td>115</td>\n",
       "      <td>5716</td>\n",
       "      <td>0</td>\n",
       "      <td>2</td>\n",
       "      <td>2</td>\n",
       "      <td>1</td>\n",
       "      <td>37000.0</td>\n",
       "      <td>False</td>\n",
       "      <td>5716</td>\n",
       "      <td>5716</td>\n",
       "      <td>2</td>\n",
       "      <td>5</td>\n",
       "      <td>168</td>\n",
       "    </tr>\n",
       "    <tr>\n",
       "      <th>2</th>\n",
       "      <td>118363</td>\n",
       "      <td>115</td>\n",
       "      <td>128</td>\n",
       "      <td>0</td>\n",
       "      <td>0</td>\n",
       "      <td>0</td>\n",
       "      <td>1</td>\n",
       "      <td>55000.0</td>\n",
       "      <td>False</td>\n",
       "      <td>128</td>\n",
       "      <td>128</td>\n",
       "      <td>0</td>\n",
       "      <td>1</td>\n",
       "      <td>131 149 92</td>\n",
       "    </tr>\n",
       "  </tbody>\n",
       "</table>\n",
       "</div>"
      ],
      "text/plain": [
       "   timestamp  user_id  content_id  content_type_id  task_container_id  \\\n",
       "0          0      115        5692                0                  1   \n",
       "1      56943      115        5716                0                  2   \n",
       "2     118363      115         128                0                  0   \n",
       "\n",
       "   user_answer  answered_correctly  prior_question_elapsed_time  \\\n",
       "0            3                   1                          NaN   \n",
       "1            2                   1                      37000.0   \n",
       "2            0                   1                      55000.0   \n",
       "\n",
       "   prior_question_had_explanation  question_id  bundle_id  correct_answer  \\\n",
       "0                            <NA>         5692       5692               3   \n",
       "1                           False         5716       5716               2   \n",
       "2                           False          128        128               0   \n",
       "\n",
       "   part        tags  \n",
       "0     5         151  \n",
       "1     5         168  \n",
       "2     1  131 149 92  "
      ]
     },
     "execution_count": 241,
     "metadata": {},
     "output_type": "execute_result"
    }
   ],
   "source": [
    "# Добавим к таблице train_q(ответы на вопросы) столбцы из таблицы questions по внешнему ключу\n",
    "train_quest_merge = train_q.merge(questions, how='left', left_on='content_id', right_on='question_id')\n",
    "# Выведем три строки полученной таблицы\n",
    "train_quest_merge.head(3)"
   ]
  },
  {
   "cell_type": "code",
   "execution_count": 242,
   "id": "89e0b6de-7bc2-4c37-92fa-89bbb3cbfd99",
   "metadata": {},
   "outputs": [
    {
     "data": {
      "text/html": [
       "<div>\n",
       "<style scoped>\n",
       "    .dataframe tbody tr th:only-of-type {\n",
       "        vertical-align: middle;\n",
       "    }\n",
       "\n",
       "    .dataframe tbody tr th {\n",
       "        vertical-align: top;\n",
       "    }\n",
       "\n",
       "    .dataframe thead th {\n",
       "        text-align: right;\n",
       "    }\n",
       "</style>\n",
       "<table border=\"1\" class=\"dataframe\">\n",
       "  <thead>\n",
       "    <tr style=\"text-align: right;\">\n",
       "      <th></th>\n",
       "      <th>answered_correctly_count</th>\n",
       "      <th>user_answer_count</th>\n",
       "      <th>correct_percent</th>\n",
       "    </tr>\n",
       "    <tr>\n",
       "      <th>part</th>\n",
       "      <th></th>\n",
       "      <th></th>\n",
       "      <th></th>\n",
       "    </tr>\n",
       "  </thead>\n",
       "  <tbody>\n",
       "    <tr>\n",
       "      <th>1</th>\n",
       "      <td>5553896</td>\n",
       "      <td>7454570</td>\n",
       "      <td>74.503238</td>\n",
       "    </tr>\n",
       "    <tr>\n",
       "      <th>2</th>\n",
       "      <td>13283339</td>\n",
       "      <td>18743404</td>\n",
       "      <td>70.869406</td>\n",
       "    </tr>\n",
       "    <tr>\n",
       "      <th>3</th>\n",
       "      <td>6060514</td>\n",
       "      <td>8639907</td>\n",
       "      <td>70.145593</td>\n",
       "    </tr>\n",
       "    <tr>\n",
       "      <th>4</th>\n",
       "      <td>5090684</td>\n",
       "      <td>8067676</td>\n",
       "      <td>63.099758</td>\n",
       "    </tr>\n",
       "    <tr>\n",
       "      <th>5</th>\n",
       "      <td>24957570</td>\n",
       "      <td>40908153</td>\n",
       "      <td>61.008792</td>\n",
       "    </tr>\n",
       "    <tr>\n",
       "      <th>6</th>\n",
       "      <td>7029563</td>\n",
       "      <td>10501472</td>\n",
       "      <td>66.938835</td>\n",
       "    </tr>\n",
       "    <tr>\n",
       "      <th>7</th>\n",
       "      <td>3269061</td>\n",
       "      <td>4956118</td>\n",
       "      <td>65.960112</td>\n",
       "    </tr>\n",
       "  </tbody>\n",
       "</table>\n",
       "</div>"
      ],
      "text/plain": [
       "      answered_correctly_count  user_answer_count  correct_percent\n",
       "part                                                              \n",
       "1                      5553896            7454570        74.503238\n",
       "2                     13283339           18743404        70.869406\n",
       "3                      6060514            8639907        70.145593\n",
       "4                      5090684            8067676        63.099758\n",
       "5                     24957570           40908153        61.008792\n",
       "6                      7029563           10501472        66.938835\n",
       "7                      3269061            4956118        65.960112"
      ]
     },
     "execution_count": 242,
     "metadata": {},
     "output_type": "execute_result"
    }
   ],
   "source": [
    "# Посмотрим как зависит успесаемость студентов от принадлежности вопроса к разным разделам TOEIC\n",
    "# Создадим таблтцу с количеством правильных ответов по разделам\n",
    "tq_part_answer = train_quest_merge[['part', 'answered_correctly']].groupby(['part']).agg(['sum']).sort_values(by=['part'])\n",
    "# Дадим новое имя столбцу\n",
    "tq_part_answer.columns = ['answered_correctly_count']\n",
    "# Создадим таблтцу с количеством ответов по разделам\n",
    "tq_part_quest = train_quest_merge[['part', 'user_answer']].groupby(['part']).agg(['count']).sort_values(by=['part'])\n",
    "# Дадим новое имя столбцу\n",
    "tq_part_quest.columns = ['user_answer_count']\n",
    "# Объединим таблицы вопросов и правильных ответов\n",
    "tq_part_merge = tq_part_answer.merge(tq_part_quest, left_on='part', right_on='part')\n",
    "# Расситаем и добавим процент правильных ответов для каждого раздела TOEIC\n",
    "tq_part_merge = tq_part_merge.assign(correct_percent = tq_part_merge['answered_correctly_count']/tq_part_merge['user_answer_count']*100)\n",
    "# Посмотрим полученный результат\n",
    "tq_part_merge.head(7)"
   ]
  },
  {
   "cell_type": "markdown",
   "id": "d5fd12fe-6d8c-46d7-903e-1ac98543bdaa",
   "metadata": {},
   "source": [
    "### Судя по количеству правильных ответов задел 1 самый легкий\n",
    "### Рздел 5 самый трудный\n",
    "### Начиная с четвертого раздела сложность вопросов увеличилась"
   ]
  },
  {
   "cell_type": "code",
   "execution_count": 243,
   "id": "1d43aea2-6b71-4ccc-a6bf-abc34fdd50ad",
   "metadata": {},
   "outputs": [
    {
     "name": "stdout",
     "output_type": "stream",
     "text": [
      "<class 'pandas.core.frame.DataFrame'>\n",
      "RangeIndex: 418 entries, 0 to 417\n",
      "Data columns (total 4 columns):\n",
      " #   Column      Non-Null Count  Dtype   \n",
      "---  ------      --------------  -----   \n",
      " 0   lecture_id  418 non-null    int16   \n",
      " 1   tag         418 non-null    int16   \n",
      " 2   part        418 non-null    int8    \n",
      " 3   type_of     418 non-null    category\n",
      "dtypes: category(1), int16(2), int8(1)\n",
      "memory usage: 2.8 KB\n"
     ]
    }
   ],
   "source": [
    "# Выведем информацию о таблице lectures\n",
    "lectures.info()"
   ]
  },
  {
   "cell_type": "code",
   "execution_count": 244,
   "id": "569ce5cd-9f4b-4202-9b51-faa34b3e8b73",
   "metadata": {},
   "outputs": [
    {
     "data": {
      "text/plain": [
       "418"
      ]
     },
     "execution_count": 244,
     "metadata": {},
     "output_type": "execute_result"
    }
   ],
   "source": [
    "# Получим количество уникальных лекций\n",
    "lectures['lecture_id'].nunique()"
   ]
  },
  {
   "cell_type": "code",
   "execution_count": 245,
   "id": "fc1da632-cf26-457e-97a1-861bf71c46b3",
   "metadata": {},
   "outputs": [
    {
     "data": {
      "text/plain": [
       "151"
      ]
     },
     "execution_count": 245,
     "metadata": {},
     "output_type": "execute_result"
    }
   ],
   "source": [
    "# Получим количество уникальных тегов\n",
    "lectures['tag'].nunique()"
   ]
  },
  {
   "cell_type": "code",
   "execution_count": 246,
   "id": "9f132f8c-438e-494f-9a63-6454dd8b65ed",
   "metadata": {},
   "outputs": [
    {
     "data": {
      "text/plain": [
       "7"
      ]
     },
     "execution_count": 246,
     "metadata": {},
     "output_type": "execute_result"
    }
   ],
   "source": [
    "# Получим количество категорий верхнего уровня для лекций\n",
    "lectures['part'].nunique()"
   ]
  },
  {
   "cell_type": "code",
   "execution_count": 247,
   "id": "200e79ba-9610-46d1-b900-321d2a35c39f",
   "metadata": {},
   "outputs": [
    {
     "data": {
      "text/plain": [
       "4"
      ]
     },
     "execution_count": 247,
     "metadata": {},
     "output_type": "execute_result"
    }
   ],
   "source": [
    "# Получим количество уникальных описаний лекций\n",
    "lectures['type_of'].nunique()"
   ]
  },
  {
   "cell_type": "code",
   "execution_count": 248,
   "id": "cca30e80-9561-48e3-ab64-e5c5488894bc",
   "metadata": {},
   "outputs": [
    {
     "data": {
      "text/html": [
       "<div>\n",
       "<style scoped>\n",
       "    .dataframe tbody tr th:only-of-type {\n",
       "        vertical-align: middle;\n",
       "    }\n",
       "\n",
       "    .dataframe tbody tr th {\n",
       "        vertical-align: top;\n",
       "    }\n",
       "\n",
       "    .dataframe thead th {\n",
       "        text-align: right;\n",
       "    }\n",
       "</style>\n",
       "<table border=\"1\" class=\"dataframe\">\n",
       "  <thead>\n",
       "    <tr style=\"text-align: right;\">\n",
       "      <th></th>\n",
       "      <th>lecture_id</th>\n",
       "      <th>tag</th>\n",
       "      <th>part</th>\n",
       "      <th>type_of</th>\n",
       "    </tr>\n",
       "  </thead>\n",
       "  <tbody>\n",
       "    <tr>\n",
       "      <th>0</th>\n",
       "      <td>89</td>\n",
       "      <td>159</td>\n",
       "      <td>5</td>\n",
       "      <td>concept</td>\n",
       "    </tr>\n",
       "    <tr>\n",
       "      <th>1</th>\n",
       "      <td>100</td>\n",
       "      <td>70</td>\n",
       "      <td>1</td>\n",
       "      <td>concept</td>\n",
       "    </tr>\n",
       "    <tr>\n",
       "      <th>2</th>\n",
       "      <td>185</td>\n",
       "      <td>45</td>\n",
       "      <td>6</td>\n",
       "      <td>concept</td>\n",
       "    </tr>\n",
       "    <tr>\n",
       "      <th>3</th>\n",
       "      <td>192</td>\n",
       "      <td>79</td>\n",
       "      <td>5</td>\n",
       "      <td>solving question</td>\n",
       "    </tr>\n",
       "    <tr>\n",
       "      <th>4</th>\n",
       "      <td>317</td>\n",
       "      <td>156</td>\n",
       "      <td>5</td>\n",
       "      <td>solving question</td>\n",
       "    </tr>\n",
       "  </tbody>\n",
       "</table>\n",
       "</div>"
      ],
      "text/plain": [
       "   lecture_id  tag  part           type_of\n",
       "0          89  159     5           concept\n",
       "1         100   70     1           concept\n",
       "2         185   45     6           concept\n",
       "3         192   79     5  solving question\n",
       "4         317  156     5  solving question"
      ]
     },
     "execution_count": 248,
     "metadata": {},
     "output_type": "execute_result"
    }
   ],
   "source": [
    "# Выведем первые пять строк таблицы lectures\n",
    "lectures.head()"
   ]
  },
  {
   "cell_type": "code",
   "execution_count": 249,
   "id": "f65d1fdf-567d-408f-b5aa-c5ed31d68ec7",
   "metadata": {},
   "outputs": [
    {
     "data": {
      "text/plain": [
       "type_of\n",
       "concept             0.531100\n",
       "solving question    0.444976\n",
       "intention           0.016746\n",
       "starter             0.007177\n",
       "Name: proportion, dtype: float64"
      ]
     },
     "execution_count": 249,
     "metadata": {},
     "output_type": "execute_result"
    }
   ],
   "source": [
    "# Посмотрим описания лекций и их частоты\n",
    "lectures['type_of'].value_counts(normalize=True)"
   ]
  },
  {
   "cell_type": "markdown",
   "id": "45e1013b-dc4a-42e4-a636-7f9b18c6eff7",
   "metadata": {},
   "source": [
    "### 53.1% лекций в таблице имеют описание \"concept\"\n",
    "### 44.5% лекций в таблице имеют описание \"solving question\"\n",
    "### 1.7% лекций в таблице имеют описание \"intention\"\n",
    "### 0.7% лекций в таблице имеют описание \"starter\""
   ]
  },
  {
   "cell_type": "code",
   "execution_count": 250,
   "id": "28f4bf29-e57f-4723-bb0c-2b0027484f8f",
   "metadata": {},
   "outputs": [
    {
     "data": {
      "text/html": [
       "<div>\n",
       "<style scoped>\n",
       "    .dataframe tbody tr th:only-of-type {\n",
       "        vertical-align: middle;\n",
       "    }\n",
       "\n",
       "    .dataframe tbody tr th {\n",
       "        vertical-align: top;\n",
       "    }\n",
       "\n",
       "    .dataframe thead th {\n",
       "        text-align: right;\n",
       "    }\n",
       "</style>\n",
       "<table border=\"1\" class=\"dataframe\">\n",
       "  <thead>\n",
       "    <tr style=\"text-align: right;\">\n",
       "      <th></th>\n",
       "      <th>timestamp</th>\n",
       "      <th>user_id</th>\n",
       "      <th>content_id</th>\n",
       "      <th>content_type_id</th>\n",
       "      <th>task_container_id</th>\n",
       "      <th>user_answer</th>\n",
       "      <th>answered_correctly</th>\n",
       "      <th>prior_question_elapsed_time</th>\n",
       "      <th>prior_question_had_explanation</th>\n",
       "      <th>lecture_id</th>\n",
       "      <th>tag</th>\n",
       "      <th>part</th>\n",
       "      <th>type_of</th>\n",
       "    </tr>\n",
       "  </thead>\n",
       "  <tbody>\n",
       "    <tr>\n",
       "      <th>0</th>\n",
       "      <td>653762</td>\n",
       "      <td>2746</td>\n",
       "      <td>6808</td>\n",
       "      <td>1</td>\n",
       "      <td>14</td>\n",
       "      <td>-1</td>\n",
       "      <td>-1</td>\n",
       "      <td>NaN</td>\n",
       "      <td>False</td>\n",
       "      <td>6808</td>\n",
       "      <td>129</td>\n",
       "      <td>2</td>\n",
       "      <td>intention</td>\n",
       "    </tr>\n",
       "    <tr>\n",
       "      <th>1</th>\n",
       "      <td>10183847</td>\n",
       "      <td>5382</td>\n",
       "      <td>16736</td>\n",
       "      <td>1</td>\n",
       "      <td>21</td>\n",
       "      <td>-1</td>\n",
       "      <td>-1</td>\n",
       "      <td>NaN</td>\n",
       "      <td>False</td>\n",
       "      <td>16736</td>\n",
       "      <td>40</td>\n",
       "      <td>1</td>\n",
       "      <td>concept</td>\n",
       "    </tr>\n",
       "    <tr>\n",
       "      <th>2</th>\n",
       "      <td>1424348597</td>\n",
       "      <td>5382</td>\n",
       "      <td>30207</td>\n",
       "      <td>1</td>\n",
       "      <td>104</td>\n",
       "      <td>-1</td>\n",
       "      <td>-1</td>\n",
       "      <td>NaN</td>\n",
       "      <td>False</td>\n",
       "      <td>30207</td>\n",
       "      <td>43</td>\n",
       "      <td>5</td>\n",
       "      <td>concept</td>\n",
       "    </tr>\n",
       "  </tbody>\n",
       "</table>\n",
       "</div>"
      ],
      "text/plain": [
       "    timestamp  user_id  content_id  content_type_id  task_container_id  \\\n",
       "0      653762     2746        6808                1                 14   \n",
       "1    10183847     5382       16736                1                 21   \n",
       "2  1424348597     5382       30207                1                104   \n",
       "\n",
       "   user_answer  answered_correctly  prior_question_elapsed_time  \\\n",
       "0           -1                  -1                          NaN   \n",
       "1           -1                  -1                          NaN   \n",
       "2           -1                  -1                          NaN   \n",
       "\n",
       "   prior_question_had_explanation  lecture_id  tag  part    type_of  \n",
       "0                           False        6808  129     2  intention  \n",
       "1                           False       16736   40     1    concept  \n",
       "2                           False       30207   43     5    concept  "
      ]
     },
     "execution_count": 250,
     "metadata": {},
     "output_type": "execute_result"
    }
   ],
   "source": [
    "# Добавим к таблице train_l(лекции) столбцы из таблицы lectures по внешнему ключу\n",
    "train_lect_merge = train_l.merge(lectures, how='left', left_on='content_id', right_on='lecture_id')\n",
    "# Выведем три строки полученной таблицы\n",
    "train_lect_merge.head(3)"
   ]
  },
  {
   "cell_type": "code",
   "execution_count": 251,
   "id": "86a6ecea-f648-4d62-bf10-64aebc05bde1",
   "metadata": {},
   "outputs": [
    {
     "data": {
      "text/plain": [
       "part\n",
       "5    0.342105\n",
       "6    0.198565\n",
       "2    0.133971\n",
       "1    0.129187\n",
       "7    0.076555\n",
       "4    0.074163\n",
       "3    0.045455\n",
       "Name: proportion, dtype: float64"
      ]
     },
     "execution_count": 251,
     "metadata": {},
     "output_type": "execute_result"
    }
   ],
   "source": [
    "# Посмотрим относительное количество лекцй по категориям\n",
    "lectures['part'].value_counts(normalize=True)"
   ]
  },
  {
   "cell_type": "code",
   "execution_count": 252,
   "id": "b01a2816-9fb5-4e1d-8b3a-b4a96ebe53c7",
   "metadata": {},
   "outputs": [
    {
     "data": {
      "text/html": [
       "<div>\n",
       "<style scoped>\n",
       "    .dataframe tbody tr th:only-of-type {\n",
       "        vertical-align: middle;\n",
       "    }\n",
       "\n",
       "    .dataframe tbody tr th {\n",
       "        vertical-align: top;\n",
       "    }\n",
       "\n",
       "    .dataframe thead th {\n",
       "        text-align: right;\n",
       "    }\n",
       "</style>\n",
       "<table border=\"1\" class=\"dataframe\">\n",
       "  <thead>\n",
       "    <tr style=\"text-align: right;\">\n",
       "      <th></th>\n",
       "      <th>number_of_views</th>\n",
       "    </tr>\n",
       "  </thead>\n",
       "  <tbody>\n",
       "    <tr>\n",
       "      <th>count</th>\n",
       "      <td>415.000000</td>\n",
       "    </tr>\n",
       "    <tr>\n",
       "      <th>mean</th>\n",
       "      <td>4720.559036</td>\n",
       "    </tr>\n",
       "    <tr>\n",
       "      <th>std</th>\n",
       "      <td>5275.046378</td>\n",
       "    </tr>\n",
       "    <tr>\n",
       "      <th>min</th>\n",
       "      <td>1.000000</td>\n",
       "    </tr>\n",
       "    <tr>\n",
       "      <th>25%</th>\n",
       "      <td>1104.000000</td>\n",
       "    </tr>\n",
       "    <tr>\n",
       "      <th>50%</th>\n",
       "      <td>2723.000000</td>\n",
       "    </tr>\n",
       "    <tr>\n",
       "      <th>75%</th>\n",
       "      <td>6896.500000</td>\n",
       "    </tr>\n",
       "    <tr>\n",
       "      <th>max</th>\n",
       "      <td>37024.000000</td>\n",
       "    </tr>\n",
       "  </tbody>\n",
       "</table>\n",
       "</div>"
      ],
      "text/plain": [
       "       number_of_views\n",
       "count       415.000000\n",
       "mean       4720.559036\n",
       "std        5275.046378\n",
       "min           1.000000\n",
       "25%        1104.000000\n",
       "50%        2723.000000\n",
       "75%        6896.500000\n",
       "max       37024.000000"
      ]
     },
     "execution_count": 252,
     "metadata": {},
     "output_type": "execute_result"
    }
   ],
   "source": [
    "# Сгруппируем просмотры по лекциям и проанализируем их\n",
    "tl_pop_lect = train_lect_merge[['content_id', 'user_id']].groupby(['content_id']).agg(['count']).sort_values(by=['content_id'])\n",
    "# Дадим новое имя столбцу\n",
    "tl_pop_lect.columns = ['number_of_views']\n",
    "# Посмотрим статистики\n",
    "tl_pop_lect.describe()"
   ]
  },
  {
   "cell_type": "markdown",
   "id": "9c51d120-31bd-4c91-b86d-e8c306f0e3b5",
   "metadata": {},
   "source": [
    "### Таблица содержит информацию о 415 лекциях, их смотрели хотя бы 1 раз\n",
    "### 3 лекции из таблицы lectures не смотрели вообще\n",
    "### Среднее количество просмотров одной лекции 4721\n",
    "### Максимальное количество просмотров одной лекции 37024"
   ]
  },
  {
   "cell_type": "code",
   "execution_count": 253,
   "id": "65b45c3b-fa0e-4e33-84e9-7824da820ac8",
   "metadata": {},
   "outputs": [
    {
     "data": {
      "text/html": [
       "<div>\n",
       "<style scoped>\n",
       "    .dataframe tbody tr th:only-of-type {\n",
       "        vertical-align: middle;\n",
       "    }\n",
       "\n",
       "    .dataframe tbody tr th {\n",
       "        vertical-align: top;\n",
       "    }\n",
       "\n",
       "    .dataframe thead th {\n",
       "        text-align: right;\n",
       "    }\n",
       "</style>\n",
       "<table border=\"1\" class=\"dataframe\">\n",
       "  <thead>\n",
       "    <tr style=\"text-align: right;\">\n",
       "      <th></th>\n",
       "      <th>number_of_views</th>\n",
       "    </tr>\n",
       "  </thead>\n",
       "  <tbody>\n",
       "    <tr>\n",
       "      <th>count</th>\n",
       "      <td>7.000000</td>\n",
       "    </tr>\n",
       "    <tr>\n",
       "      <th>mean</th>\n",
       "      <td>279861.714286</td>\n",
       "    </tr>\n",
       "    <tr>\n",
       "      <th>std</th>\n",
       "      <td>308651.475293</td>\n",
       "    </tr>\n",
       "    <tr>\n",
       "      <th>min</th>\n",
       "      <td>57030.000000</td>\n",
       "    </tr>\n",
       "    <tr>\n",
       "      <th>25%</th>\n",
       "      <td>96147.500000</td>\n",
       "    </tr>\n",
       "    <tr>\n",
       "      <th>50%</th>\n",
       "      <td>173057.000000</td>\n",
       "    </tr>\n",
       "    <tr>\n",
       "      <th>75%</th>\n",
       "      <td>300927.500000</td>\n",
       "    </tr>\n",
       "    <tr>\n",
       "      <th>max</th>\n",
       "      <td>934795.000000</td>\n",
       "    </tr>\n",
       "  </tbody>\n",
       "</table>\n",
       "</div>"
      ],
      "text/plain": [
       "       number_of_views\n",
       "count         7.000000\n",
       "mean     279861.714286\n",
       "std      308651.475293\n",
       "min       57030.000000\n",
       "25%       96147.500000\n",
       "50%      173057.000000\n",
       "75%      300927.500000\n",
       "max      934795.000000"
      ]
     },
     "execution_count": 253,
     "metadata": {},
     "output_type": "execute_result"
    }
   ],
   "source": [
    "# Сгруппируем просмотры по категориям и проанализируем их\n",
    "tl_pop_part = train_lect_merge[['part', 'user_id']].groupby(['part']).agg(['count']).sort_values(by=['part'])\n",
    "# Дадим новое имя столбцу\n",
    "tl_pop_part.columns = ['number_of_views']\n",
    "# Посмотрим статистики\n",
    "tl_pop_part.describe()"
   ]
  },
  {
   "cell_type": "code",
   "execution_count": 254,
   "id": "ce4d1cca-0309-4a8a-9978-ec580d38e544",
   "metadata": {},
   "outputs": [
    {
     "data": {
      "text/plain": [
       "part\n",
       "5    0.477172\n",
       "2    0.195060\n",
       "6    0.112160\n",
       "1    0.088338\n",
       "3    0.050646\n",
       "4    0.047512\n",
       "7    0.029111\n",
       "Name: proportion, dtype: float64"
      ]
     },
     "execution_count": 254,
     "metadata": {},
     "output_type": "execute_result"
    }
   ],
   "source": [
    "# Посмотрим относительную частоту просмотров по каждой категории\n",
    "train_lect_merge['part'].value_counts(normalize=True)"
   ]
  },
  {
   "cell_type": "markdown",
   "id": "13ae10a0-a2cb-4153-9930-58b6978e3ea0",
   "metadata": {},
   "source": [
    "### Лекции из категории 5 являются самыми популярными, их смотрели 937795 раз\n",
    "### Лекции из категории 7 являются самыми непопулярными, их смотрели 57030 раз\n",
    "### Среднее количество просмотров лекций из одного раздела 279862 раза"
   ]
  },
  {
   "cell_type": "code",
   "execution_count": null,
   "id": "e2d5cb6a-7d18-4cc3-bf6e-b1b44dd55ece",
   "metadata": {},
   "outputs": [],
   "source": []
  }
 ],
 "metadata": {
  "kernelspec": {
   "display_name": "Python 3 (ipykernel)",
   "language": "python",
   "name": "python3"
  },
  "language_info": {
   "codemirror_mode": {
    "name": "ipython",
    "version": 3
   },
   "file_extension": ".py",
   "mimetype": "text/x-python",
   "name": "python",
   "nbconvert_exporter": "python",
   "pygments_lexer": "ipython3",
   "version": "3.12.7"
  }
 },
 "nbformat": 4,
 "nbformat_minor": 5
}
